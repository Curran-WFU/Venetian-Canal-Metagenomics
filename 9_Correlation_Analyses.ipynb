{
  "nbformat": 4,
  "nbformat_minor": 0,
  "metadata": {
    "colab": {
      "name": "9.Correlation_Analyses",
      "provenance": [],
      "collapsed_sections": [],
      "authorship_tag": "ABX9TyMzJdLZn3JneD8JYFO9raJJ",
      "include_colab_link": true
    },
    "kernelspec": {
      "name": "python3",
      "display_name": "Python 3"
    },
    "language_info": {
      "name": "python"
    }
  },
  "cells": [
    {
      "cell_type": "markdown",
      "metadata": {
        "id": "view-in-github",
        "colab_type": "text"
      },
      "source": [
        "<a href=\"https://colab.research.google.com/github/Curran-WFU/Venetian-Canal-Metagenomics/blob/main/9_Correlation_Analyses.ipynb\" target=\"_parent\"><img src=\"https://colab.research.google.com/assets/colab-badge.svg\" alt=\"Open In Colab\"/></a>"
      ]
    },
    {
      "cell_type": "code",
      "metadata": {
        "id": "gVyDuRFQYewo",
        "colab": {
          "base_uri": "https://localhost:8080/",
          "height": 380
        },
        "outputId": "c882331f-2818-42c9-bcc8-67a351893533"
      },
      "source": [
        "# Search for keywords for covariance circle plots\n",
        "import numpy as np\n",
        "import math\n",
        "import matplotlib.pyplot as plt\n",
        "import pandas as pd\n",
        "pd.set_option('display.max_rows', 50)\n",
        "pd.set_option('display.max_columns', 50)\n",
        "pd.set_option('display.width', 200)\n",
        "import warnings\n",
        "warnings.simplefilter(action='ignore', category=Warning)\n",
        "from google.colab import drive\n",
        "drive.mount('/content/gdrive')\n",
        "# #############################################################################\n",
        "infile = \"/content/gdrive/Shared drives/4.Venetian Canals/Joined MG Files/Genus.Frqs.All.MGs.Joined.csv\"\n",
        "with open(infile, 'r') as f:\n",
        "  data = f.read() \n",
        "  print('Start of file:',repr(data[:50]))\n",
        "  print('End of file:', repr(data[-50:]))\n",
        "f.close()\n",
        "rawlines = data.split('\\n')\n",
        "rawlines.pop()\n",
        "\n",
        "# specify keywords in the order you them to be plotted\n",
        "keywords = ['Anaerolinea', 'Bacteroides', 'Clostridium','Syntrophus', \n",
        "            'Maribacter', 'Mycobacterium', 'Pseudomonas', 'Shewanella']\n",
        "\n",
        "omits = ['parabacteroides']\n",
        "\n",
        "\"\"\"\n",
        "['Anaerolinea', 'Bacteroides', 'Clostridium','Syntrophus', 'Maribacter', 'Mycobacterium', 'Pseudomonas', 'Shewanella']\n",
        "\n",
        "['Desulfo', 'Nitro']\n",
        "\n",
        "['Anaerolinea', 'Bacteroides', 'Clostridium','Syntrophus', \n",
        "            'Maribacter', 'Mycobacterium', 'Pseudomonas', 'Shewanella']\n",
        "\n",
        "[ 'Gammaproteobacteria', 'Beggiatoa', 'Deltaproteobacteria', 'Desulfobacterium', 'Nitrosopumilus', 'Bacteroides',\n",
        "            'Desulfatibacillum', 'Planctomyces', 'Geobacter', 'Desulfococcus' ]\n",
        "\"\"\"      \n",
        "n_samples = 100\n",
        "lines =[]\n",
        "for z in range(n_samples):\n",
        "  keep = True\n",
        "  for a in range(len(omits)):    \n",
        "    if omits[a].lower() in rawlines[z]: \n",
        "      keep = False\n",
        "  if keep == True: lines.append(rawlines[z])\n",
        "#print('Lengths:', len(rawlines), len(lines))\n",
        "\n",
        "table, genera, letter = [], [], []\n",
        "hits = 0\n",
        "for x in range(len(keywords)):\n",
        "  for y in range(len(lines)):\n",
        "    row = lines[y].split(',')\n",
        "    if keywords[x].lower() in row[0].lower(): \n",
        "      #print(row)\n",
        "      hits +=1\n",
        "      letter.append(chr(hits + 64))      \n",
        "      genera.append(row[0])\n",
        "      for a in range(1, len(row)):\n",
        "        if float(row[a]) > 0.0: row[a] = 1/float(row[a])\n",
        "        else: row[a] = 10000\n",
        "      table.append(row[1:])\n",
        "print()\n",
        "\n",
        "frame ={}\n",
        "for x in range(len(table)):\n",
        "  frame[ genera[x] ] = table[x]  \n",
        "#print(frame)\n",
        "\n",
        "df = pd.DataFrame(frame)\n",
        "#print('Correlation Matrix:\\n', df.corr())\n",
        "print()\n",
        "plt.matshow(df.corr(), cmap='RdBu_r')  #RdBu_r, spring, autumn, Reds, plasma, RdPu, Purples\n",
        "plt.title(\"Correlation Matrix\\n\")\n",
        "plt.xticks(np.arange(len(letter)), letter )\n",
        "plt.yticks(np.arange(len(letter)), letter )\n",
        "plt.colorbar()\n",
        "plt.show()\n"
      ],
      "execution_count": 5,
      "outputs": [
        {
          "output_type": "stream",
          "text": [
            "Drive already mounted at /content/gdrive; to attempt to forcibly remount, call drive.mount(\"/content/gdrive\", force_remount=True).\n",
            "Start of file: 'Gammaproteobacteria,0.04415611593596317,0.09294976'\n",
            "End of file: ',0.0,0.0005963029218843172,0.00011356538527056953\\n'\n",
            "\n",
            "\n"
          ],
          "name": "stdout"
        },
        {
          "output_type": "display_data",
          "data": {
            "image/png": "[encoded data removed]",
            "text/plain": [
              "<Figure size 288x288 with 2 Axes>"
            ]
          },
          "metadata": {
            "needs_background": "light"
          }
        }
      ]
    }
  ]
}