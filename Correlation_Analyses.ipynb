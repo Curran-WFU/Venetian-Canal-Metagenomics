{
  "nbformat": 4,
  "nbformat_minor": 0,
  "metadata": {
    "colab": {
      "name": "Correlation_Analyses",
      "provenance": [],
      "collapsed_sections": []
    },
    "kernelspec": {
      "name": "python3",
      "display_name": "Python 3"
    },
    "language_info": {
      "name": "python"
    }
  },
  "cells": [
    {
      "cell_type": "code",
      "metadata": {
        "id": "gVyDuRFQYewo"
      },
      "source": [
        "# Search for keywords for covariance circle plots\n",
        "import numpy as np\n",
        "import math\n",
        "import matplotlib.pyplot as plt\n",
        "import pandas as pd\n",
        "pd.set_option('display.max_rows', 50)\n",
        "pd.set_option('display.max_columns', 50)\n",
        "pd.set_option('display.width', 200)\n",
        "import warnings\n",
        "warnings.simplefilter(action='ignore', category=Warning)\n",
        "from google.colab import drive\n",
        "drive.mount('/content/gdrive')\n",
        "# #############################################################################\n",
        "infile = \"...path.../Genus.Frqs.All.MGs.Joined.csv\"\n",
        "with open(infile, 'r') as f:\n",
        "  data = f.read() \n",
        "  print('Start of file:',repr(data[:50]))\n",
        "  print('End of file:', repr(data[-50:]))\n",
        "f.close()\n",
        "rawlines = data.split('\\n')\n",
        "rawlines.pop()\n",
        "\n",
        "# specify keywords in the order you them to be plotted\n",
        "keywords = ['Anaerolinea', 'Bacteroides', 'Clostridium','Syntrophus', \n",
        "            'Maribacter', 'Mycobacterium', 'Pseudomonas', 'Shewanella']        \n",
        "omits = ['Parabacteroides']\n",
        "n_samples = 100\n",
        "lines =[]\n",
        "\n",
        "for z in range(n_samples):\n",
        "  keep = True\n",
        "  for a in range(len(omits)):    \n",
        "    if omits[a].lower() in rawlines[z]: \n",
        "      keep = False\n",
        "  if keep == True: lines.append(rawlines[z])\n",
        "#print('Lengths:', len(rawlines), len(lines))\n",
        "\n",
        "table, genera, letter = [], [], []\n",
        "hits = 0\n",
        "for x in range(len(keywords)):\n",
        "  for y in range(len(lines)):\n",
        "    row = lines[y].split(',')\n",
        "    if keywords[x].lower() in row[0].lower(): \n",
        "      hits +=1\n",
        "      letter.append(chr(hits + 96))  #64    \n",
        "      genera.append(row[0])\n",
        "      for a in range(1, len(row)):\n",
        "        if float(row[a]) > 0.0: row[a] = 1/float(row[a])\n",
        "        else: row[a] = 10000\n",
        "      table.append(row[1:])\n",
        "print()\n",
        "\n",
        "frame ={}\n",
        "for x in range(len(table)):\n",
        "  frame[ genera[x] ] = table[x]  \n",
        "\n",
        "df = pd.DataFrame(frame)\n",
        "print('Correlation Matrix:\\n', df.corr())\n",
        "print()\n",
        "plt.matshow(df.corr(), cmap='RdBu_r')  \n",
        "plt.title(\"Correlation Matrix\\n\")\n",
        "plt.xticks(np.arange(len(letter)), letter )\n",
        "plt.yticks(np.arange(len(letter)), letter )\n",
        "plt.colorbar()\n",
        "plt.show()\n"
      ],
      "execution_count": null,
      "outputs": []
    }
  ]
}